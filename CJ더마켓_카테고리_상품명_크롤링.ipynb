{
 "cells": [
  {
   "cell_type": "markdown",
   "id": "ac7d6eeb-0e7b-4ad7-b0e0-82c9fb61ede0",
   "metadata": {},
   "source": [
    "# CJ더마켓 카테고리&상품명 크롤링"
   ]
  },
  {
   "cell_type": "markdown",
   "id": "85ba5106-dee2-477f-8a5c-463c08bd2159",
   "metadata": {},
   "source": [
    "## 0. 기본 설정"
   ]
  },
  {
   "cell_type": "code",
   "execution_count": 1,
   "id": "a4b42236-1736-4f3a-b4ec-6ba1ef0e5bd5",
   "metadata": {},
   "outputs": [],
   "source": [
    "# 크롤링에 필요한 함수 불러오기\n",
    "# selenium은 제어하고자 하는 웹 브라우저의 driver를 설치해야 함 (일반적으로 Chrome 사용)\n",
    "from selenium import webdriver\n",
    "from selenium.webdriver.chrome.options import Options\n",
    "from selenium import webdriver\n",
    "from selenium.webdriver.common.by import By\n",
    "\n",
    "import time"
   ]
  },
  {
   "cell_type": "code",
   "execution_count": 2,
   "id": "ebb8eb23-ffb6-46d0-b4be-e83d2f38cba9",
   "metadata": {},
   "outputs": [
    {
     "name": "stderr",
     "output_type": "stream",
     "text": [
      "C:\\Users\\USER\\AppData\\Local\\Temp\\ipykernel_20332\\946588490.py:11: DeprecationWarning: use options instead of chrome_options\n",
      "  driver = webdriver.Chrome(executable_path=DRIVER_PATH, chrome_options=chrome_options)\n"
     ]
    }
   ],
   "source": [
    "DRIVER_PATH = \"C:/Users/USER/Chromedriver/chromedriver.exe\"\n",
    "\n",
    "chrome_options = Options()\n",
    "chrome_options.add_argument( '--headless' )\n",
    "chrome_options.add_argument( '--log-level=3' )\n",
    "chrome_options.add_argument( '--disable-logging' )\n",
    "chrome_options.add_argument( '--no-sandbox' )\n",
    "chrome_options.add_argument( '--disable-gpu' )\n",
    "\n",
    "# selenium webdriver 위치 지정\n",
    "driver = webdriver.Chrome(executable_path=DRIVER_PATH, chrome_options=chrome_options)"
   ]
  },
  {
   "cell_type": "markdown",
   "id": "2e943b8a-2a12-4bdb-9330-bfaae4d295ce",
   "metadata": {},
   "source": [
    "## 1. 크롤링 함수 만들기"
   ]
  },
  {
   "cell_type": "code",
   "execution_count": 3,
   "id": "dd3a875f-0a81-48ea-ab01-3a5e41a8602a",
   "metadata": {
    "tags": []
   },
   "outputs": [],
   "source": [
    "def crowl_category(driver, url, cate_list):\n",
    "    # selenium driver로 url 접속\n",
    "    driver.get(url)\n",
    "    time.sleep(2)\n",
    "\n",
    "    # 카테고리 페이지 개수 가져오기\n",
    "    pages = len(driver.find_element(By.CLASS_NAME, 'paging').find_elements(By.CSS_SELECTOR, 'li'))\n",
    "    if pages == 0:\n",
    "        pages = 1\n",
    "\n",
    "    # 페이지 돌면서 데이터 가져오기\n",
    "    for j in range(1, pages+1):\n",
    "        print(f'    page = {j}')\n",
    "        driver.get(url + str(j))\n",
    "        time.sleep(2)\n",
    "        \n",
    "        elements = driver.find_element(By.CLASS_NAME, 'product-list').find_elements_by_css_selector('li.product-item')\n",
    "        print('     상품 개수: {}'.format(len(elements)))\n",
    "        # 해당 카테고리에 속하는 상품들의 이름을 리스트에 담기\n",
    "        for el in elements:\n",
    "            el_title = el.find_element_by_css_selector('div.product-list-cont > a > p.product-title')\n",
    "            cate_list.append(el_title.text)"
   ]
  },
  {
   "cell_type": "markdown",
   "id": "d2e77bac-e934-468e-a1e5-f5545364b493",
   "metadata": {},
   "source": [
    "## 2. 데이터 크롤링하기"
   ]
  },
  {
   "cell_type": "code",
   "execution_count": 4,
   "id": "0c3a495c-556c-4168-9cfa-7d3a8af571f1",
   "metadata": {},
   "outputs": [
    {
     "name": "stdout",
     "output_type": "stream",
     "text": [
      "카테고리 - 밥/죽/면\n",
      "    page = 1\n",
      "     상품 개수: 80\n",
      "    page = 2\n",
      "     상품 개수: 80\n",
      "    page = 3\n",
      "     상품 개수: 80\n",
      "    page = 4\n",
      "     상품 개수: 0\n",
      "    page = 5\n",
      "     상품 개수: 16\n",
      "카테고리 - 국/김치/김/반찬/두부\n",
      "    page = 1\n",
      "     상품 개수: 0\n",
      "    page = 2\n",
      "     상품 개수: 80\n",
      "    page = 3\n",
      "     상품 개수: 0\n",
      "    page = 4\n",
      "     상품 개수: 47\n",
      "카테고리 - 만두/피자/치킨\n",
      "    page = 1\n",
      "     상품 개수: 80\n",
      "    page = 2\n",
      "     상품 개수: 80\n",
      "카테고리 - 핫도그/떡볶이/간식\n",
      "    page = 1\n",
      "     상품 개수: 80\n",
      "    page = 2\n",
      "     상품 개수: 63\n",
      "카테고리 - 돈까스/함박/구이\n",
      "    page = 1\n",
      "     상품 개수: 35\n",
      "카테고리 - 스팸/닭가슴살/소시지\n",
      "    page = 1\n",
      "     상품 개수: 80\n",
      "    page = 2\n",
      "     상품 개수: 11\n",
      "카테고리 - 양념/소스/가루/오일\n",
      "    page = 1\n",
      "     상품 개수: 80\n",
      "    page = 2\n",
      "     상품 개수: 80\n",
      "    page = 3\n",
      "     상품 개수: 80\n",
      "    page = 4\n",
      "     상품 개수: 80\n",
      "    page = 5\n",
      "     상품 개수: 12\n",
      "카테고리 - 건강식품\n",
      "    page = 1\n",
      "     상품 개수: 80\n",
      "    page = 2\n",
      "     상품 개수: 11\n",
      "카테고리 - 신선식품\n",
      "    page = 1\n",
      "     상품 개수: 80\n",
      "    page = 2\n",
      "     상품 개수: 80\n",
      "    page = 3\n",
      "     상품 개수: 2\n",
      "카테고리 - 음료/생수/시럽\n",
      "    page = 1\n",
      "     상품 개수: 80\n",
      "    page = 2\n",
      "     상품 개수: 31\n",
      "카테고리 - 대용량 식자재\n",
      "    page = 1\n",
      "     상품 개수: 80\n",
      "    page = 2\n",
      "     상품 개수: 26\n",
      "카테고리 - 밀키트\n",
      "    page = 1\n",
      "     상품 개수: 30\n"
     ]
    }
   ],
   "source": [
    "category = {18: '밥/죽/면', 19: '국/김치/김/반찬/두부', 20: '만두/피자/치킨', 21: '핫도그/떡볶이/간식', 22: '돈까스/함박/구이', 23: '스팸/닭가슴살/소시지', 4: '양념/소스/가루/오일', 6: '건강식품', 7: '신선식품', 5: '음료/생수/시럽', 9: '대용량 식자재', 10: '밀키트'}\n",
    "\n",
    "# 카테고리 개수만큼 리스트에 공간 만들기\n",
    "cate_list = []\n",
    "for i in range(len(category.keys())):\n",
    "    ls = []\n",
    "    cate_list.append(ls)\n",
    "    \n",
    "URL = \"https://www.cjthemarket.com/pc/ctg/ctgList?ctgrId=00\"\n",
    "\n",
    "for num, list in zip(category.keys(), cate_list):\n",
    "    url = URL + f'{num:02d}' + '&page='\n",
    "    print(f'카테고리 - {category[num]}')\n",
    "    crowl_category(driver, url, list)"
   ]
  },
  {
   "cell_type": "code",
   "execution_count": 5,
   "id": "413f5a58-0c29-4e72-a55e-1d7875fe03bb",
   "metadata": {},
   "outputs": [
    {
     "data": {
      "text/html": [
       "<div>\n",
       "<style scoped>\n",
       "    .dataframe tbody tr th:only-of-type {\n",
       "        vertical-align: middle;\n",
       "    }\n",
       "\n",
       "    .dataframe tbody tr th {\n",
       "        vertical-align: top;\n",
       "    }\n",
       "\n",
       "    .dataframe thead th {\n",
       "        text-align: right;\n",
       "    }\n",
       "</style>\n",
       "<table border=\"1\" class=\"dataframe\">\n",
       "  <thead>\n",
       "    <tr style=\"text-align: right;\">\n",
       "      <th></th>\n",
       "      <th>product_name</th>\n",
       "      <th>category</th>\n",
       "    </tr>\n",
       "  </thead>\n",
       "  <tbody>\n",
       "    <tr>\n",
       "      <th>0</th>\n",
       "      <td>비비고 평양냉면 541g</td>\n",
       "      <td>밥/죽/면</td>\n",
       "    </tr>\n",
       "    <tr>\n",
       "      <th>1</th>\n",
       "      <td>햇반소프트밀 양송이 크림수프*3EA</td>\n",
       "      <td>밥/죽/면</td>\n",
       "    </tr>\n",
       "    <tr>\n",
       "      <th>2</th>\n",
       "      <td>햇반소프트밀 베이컨감자 크림수프*3EA</td>\n",
       "      <td>밥/죽/면</td>\n",
       "    </tr>\n",
       "    <tr>\n",
       "      <th>3</th>\n",
       "      <td>햇반소프트밀 양송이 크림수프 180g</td>\n",
       "      <td>밥/죽/면</td>\n",
       "    </tr>\n",
       "    <tr>\n",
       "      <th>4</th>\n",
       "      <td>햇반소프트밀 베이컨 감자 크림수프 180g</td>\n",
       "      <td>밥/죽/면</td>\n",
       "    </tr>\n",
       "    <tr>\n",
       "      <th>...</th>\n",
       "      <td>...</td>\n",
       "      <td>...</td>\n",
       "    </tr>\n",
       "    <tr>\n",
       "      <th>25</th>\n",
       "      <td>[지정일 택배배송][쿡킷] 청경채 소고기볶음</td>\n",
       "      <td>밀키트</td>\n",
       "    </tr>\n",
       "    <tr>\n",
       "      <th>26</th>\n",
       "      <td>[지정일 택배배송][쿡킷] 더건강한 닭가슴살 토마토리조또</td>\n",
       "      <td>밀키트</td>\n",
       "    </tr>\n",
       "    <tr>\n",
       "      <th>27</th>\n",
       "      <td>[지정일 택배배송][쿡킷] 칼칼한 순두부 스팸김치찜</td>\n",
       "      <td>밀키트</td>\n",
       "    </tr>\n",
       "    <tr>\n",
       "      <th>28</th>\n",
       "      <td>[택배배송] 얼큰 버섯 비비고 만두 전골_밀키트</td>\n",
       "      <td>밀키트</td>\n",
       "    </tr>\n",
       "    <tr>\n",
       "      <th>29</th>\n",
       "      <td>스팸듬뿍 부대찌개_밀키트</td>\n",
       "      <td>밀키트</td>\n",
       "    </tr>\n",
       "  </tbody>\n",
       "</table>\n",
       "<p>1644 rows × 2 columns</p>\n",
       "</div>"
      ],
      "text/plain": [
       "                       product_name category\n",
       "0                     비비고 평양냉면 541g    밥/죽/면\n",
       "1               햇반소프트밀 양송이 크림수프*3EA    밥/죽/면\n",
       "2             햇반소프트밀 베이컨감자 크림수프*3EA    밥/죽/면\n",
       "3              햇반소프트밀 양송이 크림수프 180g    밥/죽/면\n",
       "4           햇반소프트밀 베이컨 감자 크림수프 180g    밥/죽/면\n",
       "..                              ...      ...\n",
       "25         [지정일 택배배송][쿡킷] 청경채 소고기볶음      밀키트\n",
       "26  [지정일 택배배송][쿡킷] 더건강한 닭가슴살 토마토리조또      밀키트\n",
       "27     [지정일 택배배송][쿡킷] 칼칼한 순두부 스팸김치찜      밀키트\n",
       "28       [택배배송] 얼큰 버섯 비비고 만두 전골_밀키트      밀키트\n",
       "29                    스팸듬뿍 부대찌개_밀키트      밀키트\n",
       "\n",
       "[1644 rows x 2 columns]"
      ]
     },
     "execution_count": 5,
     "metadata": {},
     "output_type": "execute_result"
    }
   ],
   "source": [
    "import pandas as pd\n",
    "\n",
    "# 카테고리&상품명 정보가 담긴 df 생성하기\n",
    "ls = []\n",
    "for cate_name, cate_ls in zip(category.values(), cate_list):\n",
    "    cate = pd.DataFrame(cate_ls, columns=['product_name'])\n",
    "    cate['category'] = cate_name\n",
    "    ls.append(cate)\n",
    "\n",
    "pd.concat(ls, axis=0)"
   ]
  },
  {
   "cell_type": "code",
   "execution_count": 6,
   "id": "9d531f30-2734-4bc7-a128-b822890801d3",
   "metadata": {},
   "outputs": [],
   "source": [
    "# csv 파일로 저장하기\n",
    "pd.concat(ls, axis=0).to_csv('./category_info.csv', index=False, encoding='utf-8-sig')"
   ]
  }
 ],
 "metadata": {
  "kernelspec": {
   "display_name": "Python 3 (ipykernel)",
   "language": "python",
   "name": "python3"
  },
  "language_info": {
   "codemirror_mode": {
    "name": "ipython",
    "version": 3
   },
   "file_extension": ".py",
   "mimetype": "text/x-python",
   "name": "python",
   "nbconvert_exporter": "python",
   "pygments_lexer": "ipython3",
   "version": "3.9.12"
  }
 },
 "nbformat": 4,
 "nbformat_minor": 5
}
